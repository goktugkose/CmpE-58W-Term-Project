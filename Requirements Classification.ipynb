{
  "nbformat": 4,
  "nbformat_minor": 0,
  "metadata": {
    "colab": {
      "name": "Advanced_RE_Project_Göktuğ.ipynb",
      "provenance": [],
      "collapsed_sections": []
    },
    "kernelspec": {
      "name": "python3",
      "display_name": "Python 3"
    },
    "language_info": {
      "name": "python"
    }
  },
  "cells": [
    {
      "cell_type": "code",
      "metadata": {
        "id": "yorgT13NGcxC",
        "colab": {
          "base_uri": "https://localhost:8080/"
        },
        "outputId": "e1c3edfe-ed5e-4ee5-e6aa-0812c5c32d61"
      },
      "source": [
        "import nltk\n",
        "nltk.download('punkt')"
      ],
      "execution_count": null,
      "outputs": [
        {
          "output_type": "stream",
          "text": [
            "[nltk_data] Downloading package punkt to /root/nltk_data...\n",
            "[nltk_data]   Package punkt is already up-to-date!\n"
          ],
          "name": "stdout"
        },
        {
          "output_type": "execute_result",
          "data": {
            "text/plain": [
              "True"
            ]
          },
          "metadata": {
            "tags": []
          },
          "execution_count": 1
        }
      ]
    },
    {
      "cell_type": "code",
      "metadata": {
        "id": "ZcfRE402AduO"
      },
      "source": [
        "import json\n",
        "import numpy as np\n",
        "def retrieve_data(fileName):\n",
        "  # Opening JSON file\n",
        "  f = open(fileName)\n",
        "  # returns JSON object as a dictionary\n",
        "  data = json.load(f)\n",
        "  return data\n",
        "\n",
        "def extract_review_and_label(data, label):\n",
        "  labels = [label] * len(data)\n",
        "  reviews = [d['stopwords_removal_lemmatization'] for d in data]\n",
        "  return reviews, labels  "
      ],
      "execution_count": null,
      "outputs": []
    },
    {
      "cell_type": "code",
      "metadata": {
        "id": "SgJgoDi6A7o1"
      },
      "source": [
        "feature_data = retrieve_data(\"Feature.json\")\n",
        "feature_reviews, feature_labels = extract_review_and_label(feature_data, 0)\n",
        "\n",
        "user_experience_data = retrieve_data(\"UserExperience.json\")\n",
        "user_experience_reviews, user_experience_labels = extract_review_and_label(user_experience_data, 1)\n",
        "\n",
        "rating_data = retrieve_data(\"Rating.json\")\n",
        "rating_reviews, rating_labels = extract_review_and_label(rating_data, 2)\n",
        "\n",
        "bug_data = retrieve_data(\"Bug.json\")\n",
        "bug_reviews, bug_labels = extract_review_and_label(bug_data, 3)\n",
        "\n",
        "reviews = np.concatenate((feature_reviews, user_experience_reviews, rating_reviews, bug_reviews))\n",
        "labels = np.concatenate((feature_labels, user_experience_labels, rating_labels, bug_labels))\n",
        "\n",
        "randomize = np.arange(len(reviews))\n",
        "np.random.shuffle(randomize)\n",
        "reviews = reviews[randomize]\n",
        "labels = labels[randomize]"
      ],
      "execution_count": null,
      "outputs": []
    },
    {
      "cell_type": "code",
      "metadata": {
        "id": "SnWOrld2HE0f",
        "colab": {
          "base_uri": "https://localhost:8080/"
        },
        "outputId": "3106b388-828a-4d8d-ad71-7bcf8d47ad22"
      },
      "source": [
        "import re \n",
        "from nltk import WordNetLemmatizer\n",
        "from nltk.stem.porter import *\n",
        "from nltk.corpus import stopwords\n",
        "nltk.download('wordnet')\n",
        "nltk.download('stopwords')\n",
        "from sklearn.feature_extraction.text import TfidfVectorizer \n",
        "import pandas as pd\n",
        "\n",
        "def ignore_top_n_tfidf(k,reviews):\n",
        "  tfidf_vectorizer=TfidfVectorizer(use_idf=True) \n",
        "\n",
        "  combined = \"\"\n",
        "  for review in reviews:\n",
        "    for token in review.split(' '):\n",
        "      combined += \" \" + token\n",
        "  tfidf_vectorizer_vectors=tfidf_vectorizer.fit_transform([combined])\n",
        "\n",
        "  first_vector_tfidfvectorizer=tfidf_vectorizer_vectors\n",
        "  \n",
        "  df = pd.DataFrame(first_vector_tfidfvectorizer.T.todense(), index=tfidf_vectorizer.get_feature_names(), columns=[\"tfidf\"]) \n",
        "  df = df.sort_values(by=[\"tfidf\"],ascending=False)\n",
        "  to_ignore = [w for w in list(df.index) if w not in stopwords.words(\"english\")][-k:]\n",
        "  return to_ignore\n",
        "\n",
        "def preprocess(review):\n",
        "\n",
        "  temp = \"\"\n",
        "  lst = []\n",
        "  lemmatizer = WordNetLemmatizer()\n",
        "\n",
        "  temp = re.sub('[^a-zA-Z]',' ',review).strip()\n",
        "  temp = temp.lower()\n",
        "  for w in temp.split():\n",
        "    lst.append(w)\n",
        "  temp = \" \".join(lst)  \n",
        "  temp = \" \".join([w for w in list(set(temp.split())) if len(w) > 2 and w not in to_ignore]) #and w not in stopwords.words(\"english\")\n",
        "\n",
        "  return temp\n",
        "\n",
        "to_ignore = []\n",
        "for dataset in [feature_reviews, user_experience_reviews, rating_reviews,bug_reviews]:\n",
        "  to_ignore.append(ignore_top_n_tfidf(10,dataset))"
      ],
      "execution_count": null,
      "outputs": [
        {
          "output_type": "stream",
          "text": [
            "[nltk_data] Downloading package wordnet to /root/nltk_data...\n",
            "[nltk_data]   Package wordnet is already up-to-date!\n",
            "[nltk_data] Downloading package stopwords to /root/nltk_data...\n",
            "[nltk_data]   Package stopwords is already up-to-date!\n"
          ],
          "name": "stdout"
        }
      ]
    },
    {
      "cell_type": "code",
      "metadata": {
        "id": "OJ75ylLVbk_3"
      },
      "source": [
        "results = []\n",
        "for r in reviews:\n",
        "  results.append(preprocess(r))"
      ],
      "execution_count": null,
      "outputs": []
    },
    {
      "cell_type": "code",
      "metadata": {
        "colab": {
          "base_uri": "https://localhost:8080/"
        },
        "id": "V_4ABS0wCknS",
        "outputId": "3a87031c-d0ef-439d-c508-848a8780592f"
      },
      "source": [
        "from gensim.models.doc2vec import Doc2Vec, TaggedDocument\n",
        "from nltk.tokenize import word_tokenize\n",
        "tagged_data = [TaggedDocument(words=word_tokenize(_d.lower()), tags=[str(i)]) for i, _d in enumerate(results)]\n",
        "max_epochs = 100\n",
        "vec_size = 300\n",
        "alpha = 0.025\n",
        "\n",
        "model = Doc2Vec(vector_size=vec_size,\n",
        "                alpha=alpha, \n",
        "                min_alpha=alpha,\n",
        "                min_count=1,\n",
        "                dm =1)\n",
        "  \n",
        "model.build_vocab(tagged_data)\n",
        "\n",
        "for epoch in range(max_epochs):\n",
        "    print('iteration {0}'.format(epoch))\n",
        "    model.train(tagged_data,\n",
        "                total_examples=model.corpus_count,\n",
        "                epochs=model.epochs)\n",
        "    # decrease the learning rate\n",
        "    model.alpha -= 0.0002\n",
        "    # fix the learning rate, no decay\n",
        "    model.min_alpha = model.alpha\n",
        "\n",
        "model.save(\"d2v.model\")\n",
        "print(\"Model Saved\")\n",
        "\n",
        "def extract_features():\n",
        "  return model.docvecs.vectors_docs"
      ],
      "execution_count": null,
      "outputs": [
        {
          "output_type": "stream",
          "text": [
            "iteration 0\n",
            "iteration 1\n",
            "iteration 2\n",
            "iteration 3\n",
            "iteration 4\n",
            "iteration 5\n",
            "iteration 6\n",
            "iteration 7\n",
            "iteration 8\n",
            "iteration 9\n",
            "iteration 10\n",
            "iteration 11\n",
            "iteration 12\n",
            "iteration 13\n",
            "iteration 14\n",
            "iteration 15\n",
            "iteration 16\n",
            "iteration 17\n",
            "iteration 18\n",
            "iteration 19\n",
            "iteration 20\n",
            "iteration 21\n",
            "iteration 22\n",
            "iteration 23\n",
            "iteration 24\n",
            "iteration 25\n",
            "iteration 26\n",
            "iteration 27\n",
            "iteration 28\n",
            "iteration 29\n",
            "iteration 30\n",
            "iteration 31\n",
            "iteration 32\n",
            "iteration 33\n",
            "iteration 34\n",
            "iteration 35\n",
            "iteration 36\n",
            "iteration 37\n",
            "iteration 38\n",
            "iteration 39\n",
            "iteration 40\n",
            "iteration 41\n",
            "iteration 42\n",
            "iteration 43\n",
            "iteration 44\n",
            "iteration 45\n",
            "iteration 46\n",
            "iteration 47\n",
            "iteration 48\n",
            "iteration 49\n",
            "iteration 50\n",
            "iteration 51\n",
            "iteration 52\n",
            "iteration 53\n",
            "iteration 54\n",
            "iteration 55\n",
            "iteration 56\n",
            "iteration 57\n",
            "iteration 58\n",
            "iteration 59\n",
            "iteration 60\n",
            "iteration 61\n",
            "iteration 62\n",
            "iteration 63\n",
            "iteration 64\n",
            "iteration 65\n",
            "iteration 66\n",
            "iteration 67\n",
            "iteration 68\n",
            "iteration 69\n",
            "iteration 70\n",
            "iteration 71\n",
            "iteration 72\n",
            "iteration 73\n",
            "iteration 74\n",
            "iteration 75\n",
            "iteration 76\n",
            "iteration 77\n",
            "iteration 78\n",
            "iteration 79\n",
            "iteration 80\n",
            "iteration 81\n",
            "iteration 82\n",
            "iteration 83\n",
            "iteration 84\n",
            "iteration 85\n",
            "iteration 86\n",
            "iteration 87\n",
            "iteration 88\n",
            "iteration 89\n",
            "iteration 90\n",
            "iteration 91\n",
            "iteration 92\n",
            "iteration 93\n",
            "iteration 94\n",
            "iteration 95\n",
            "iteration 96\n",
            "iteration 97\n",
            "iteration 98\n",
            "iteration 99\n",
            "Model Saved\n"
          ],
          "name": "stdout"
        }
      ]
    },
    {
      "cell_type": "code",
      "metadata": {
        "id": "fOGs5OemEgML"
      },
      "source": [
        "X_train, y_train = extract_features(), labels"
      ],
      "execution_count": null,
      "outputs": []
    },
    {
      "cell_type": "code",
      "metadata": {
        "id": "YoXFZYIvG9AL"
      },
      "source": [
        "from sklearn.metrics import accuracy_score\n",
        "import warnings; warnings.simplefilter('ignore')\n",
        "from sklearn.svm import SVC\n",
        "from sklearn.tree import DecisionTreeClassifier\n",
        "from sklearn.linear_model import LogisticRegression\n",
        "from sklearn.naive_bayes import MultinomialNB\n",
        "\n",
        "def calculate_accuracy_score(y_true, y_predicted):\n",
        "  return accuracy_score(y_true, y_predicted)\n",
        "\n",
        "def cross_validation(features, target, index):\n",
        "  slice_length = int(len(features) / 5)\n",
        "  train = np.delete(features, slice(slice_length * (index), slice_length * (index + 1)), 0)\n",
        "  train_target = np.delete(target, slice(slice_length * (index), slice_length * (index + 1)))\n",
        "  validation = features[slice_length * (index) : slice_length * (index + 1), :]\n",
        "  validation_target = target[slice_length * (index) : slice_length * (index + 1)]\n",
        "  return train, train_target, validation, validation_target\n",
        "\n",
        "accuracies = np.zeros((3, 5))\n",
        "for i in range(5):\n",
        "  train_set, train_target, validation_set, validation_target = cross_validation(X_train, y_train, i)\n",
        "  \n",
        "  # SVM \n",
        "  svclassifier = SVC(kernel=\"linear\",class_weight={0:12.66,1:6.15,2:1.5,3:10.1}, random_state = 42)\n",
        "  svclassifier.fit(train_set, train_target)\n",
        "  y_pred = svclassifier.predict(validation_set)\n",
        "  accuracy = calculate_accuracy_score(validation_target, y_pred)\n",
        "  accuracies[0][i] = accuracy\n",
        "\n",
        "  # DECISION TREE\n",
        "  decisiontree = DecisionTreeClassifier(random_state = 42,max_depth=3, min_samples_leaf=5, class_weight={0:12.66,1:6.15,2:1.5,3:10.1})\n",
        "  decisiontree.fit(X_train, y_train)\n",
        "  y_pred = decisiontree.predict(validation_set)\n",
        "  accuracy = calculate_accuracy_score(validation_target, y_pred)\n",
        "  accuracies[1][i] = accuracy\n",
        "\n",
        "  #LR\n",
        "  lr = LogisticRegression(random_state=42, class_weight={0:12.66,1:6.15,2:1.5,3:10.1})\n",
        "  lr.fit(X_train, y_train)\n",
        "  y_pred = lr.predict(validation_set)\n",
        "  accuracy = calculate_accuracy_score(validation_target, y_pred)\n",
        "  accuracies[2][i] = accuracy"
      ],
      "execution_count": null,
      "outputs": []
    },
    {
      "cell_type": "code",
      "metadata": {
        "id": "nOpxmQUIKB8h",
        "colab": {
          "base_uri": "https://localhost:8080/"
        },
        "outputId": "070da1a6-e7e4-454d-8266-39328d457f13"
      },
      "source": [
        "accuracies"
      ],
      "execution_count": null,
      "outputs": [
        {
          "output_type": "execute_result",
          "data": {
            "text/plain": [
              "array([[0.57640751, 0.63806971, 0.57774799, 0.61126005, 0.6233244 ],\n",
              "       [0.47453083, 0.47855228, 0.48793566, 0.46514745, 0.50938338],\n",
              "       [0.70509383, 0.73190349, 0.69839142, 0.71581769, 0.7386059 ]])"
            ]
          },
          "metadata": {
            "tags": []
          },
          "execution_count": 40
        }
      ]
    }
  ]
}